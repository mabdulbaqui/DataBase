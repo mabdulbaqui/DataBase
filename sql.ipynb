{
 "cells": [
  {
   "cell_type": "code",
   "execution_count": 4,
   "metadata": {},
   "outputs": [],
   "source": [
    "import csv  \n",
    "import requests\n",
    "from bs4 import BeautifulSoup\n",
    "import sqlite3\n",
    "import pandas as pd\n",
    "import openpyxl "
   ]
  },
  {
   "cell_type": "code",
   "execution_count": 2,
   "metadata": {},
   "outputs": [
    {
     "name": "stdout",
     "output_type": "stream",
     "text": [
      "3\n"
     ]
    }
   ],
   "source": [
    "#0 sql query to get books that has rate >=3 and has 'Mr' in its name.\n",
    "connection=sqlite3.connect(\"DB.db\")\n",
    "sql='SELECT * FROM books WHERE Rate>=? and Title LIKE ? '\n",
    "rowss=connection.execute(sql,[3,\"%MR%\"]).fetchall()\n",
    "connection.commit()\n",
    "connection.close()\n",
    "print(len(rowss))\n"
   ]
  },
  {
   "cell_type": "code",
   "execution_count": 3,
   "metadata": {},
   "outputs": [
    {
     "name": "stdout",
     "output_type": "stream",
     "text": [
      "462\n"
     ]
    }
   ],
   "source": [
    "#sql query to get books that has rate >=3 or price > 20.\n",
    "connection=sqlite3.connect(\"DB.db\")\n",
    "sql='SELECT * FROM books WHERE Rate>=? and Price >? '\n",
    "rowss=connection.execute(sql,[3,20]).fetchall()\n",
    "connection.commit()\n",
    "connection.close()\n",
    "print(len(rowss))"
   ]
  },
  {
   "cell_type": "code",
   "execution_count": 4,
   "metadata": {},
   "outputs": [
    {
     "name": "stdout",
     "output_type": "stream",
     "text": [
      "384\n"
     ]
    }
   ],
   "source": [
    "#sql query to get books that has price between 10 and 40 and has rate 3 or 4 or 1.\n",
    "\n",
    "connection=sqlite3.connect(\"DB.db\")\n",
    "sql='SELECT * FROM books WHERE Price BETWEEN ? AND ? AND Rate IN(?,?,?)  '\n",
    "rowss=connection.execute(sql,[10,40,1,2,3]).fetchall()\n",
    "connection.commit()\n",
    "connection.close()\n",
    "print(len(rowss))"
   ]
  },
  {
   "cell_type": "code",
   "execution_count": 5,
   "metadata": {},
   "outputs": [
    {
     "name": "stdout",
     "output_type": "stream",
     "text": [
      "[(1, \"It's Only the Himalayas\", 45.17, 2, 1), (2, 'Full Moon over Noahâ\\x80\\x99s Ark: An Odyssey to Mount Ararat and Beyond', 49.43, 4, 1), (3, 'See America: A Celebration of Our National Parks & Treasured Sites', 48.87, 3, 1), (4, 'Vagabonding: An Uncommon Guide to the Art of Long-Term World Travel', 36.94, 2, 1), (5, 'Under the Tuscan Sun', 37.33, 3, 1)]\n"
     ]
    }
   ],
   "source": [
    "#sql query to get the top 5 most expensive books (order books desc with price column and then limit the result to the first 5).\n",
    "connection=sqlite3.connect(\"DB.db\")\n",
    "sql='SELECT  * FROM books ORDER BY(?) LIMIT(?) '\n",
    "rowss=connection.execute(sql,[\"Price\",5]).fetchall()\n",
    "connection.commit()\n",
    "connection.close()\n",
    "print(rowss)"
   ]
  },
  {
   "cell_type": "code",
   "execution_count": null,
   "metadata": {},
   "outputs": [],
   "source": [
    "#sql query to add a new category in categories table and add 5 books to this category in books table with title, rate and price\n",
    "connection=sqlite3.connect(\"DB.db\")\n",
    "sql='INSERT INTO category (Name) VALUES(?) '\n",
    "rowss=connection.execute(sql,[\"newcat\"])\n",
    "connection.commit()\n",
    "connection.close()\n",
    "print(rowss)\n",
    "#######################################################\n",
    "for i in range(5):\n",
    "    Title=\"book2\"\n",
    "    Price=2\n",
    "    Rate=3\n",
    "    connection=sqlite3.connect(\"DB.db\")\n",
    "    sql='INSERT INTO books (Title,Price,Rate,Cat_id) VALUES(?,?,?,?) '\n",
    "    ro=connection.execute(sql,[Title,Price,Rate,rowss.lastrowid])\n",
    "    connection.commit()\n",
    "connection.close()\n",
    "print(rowss)\n",
    "\n",
    "\n",
    "# add what u desier \n",
    "#     for i in range(5):\n",
    "#     Title=input()\n",
    "#     Price=input()\n",
    "#     Rate=input()\n",
    "#     connection=sqlite3.connect(\"DB.db\")\n",
    "#     sql='INSERT INTO books (Title,Price,Rate,Cat_id) VALUES(?,?,?,?) '\n",
    "#     ro=connection.execute(sql,[Title,Price,Rate,rowss.lastrowid])\n",
    "#     connection.commit()\n",
    "# connection.close()\n",
    "# print(rowss)\n"
   ]
  },
  {
   "cell_type": "code",
   "execution_count": 4,
   "metadata": {},
   "outputs": [
    {
     "name": "stdout",
     "output_type": "stream",
     "text": [
      "<sqlite3.Cursor object at 0x0000023C2ABA71F0>\n"
     ]
    }
   ],
   "source": [
    "#sql query to update book's rate to 3 that thier price < 20£\n",
    "\n",
    "connection=sqlite3.connect(\"DB.db\")\n",
    "sql='UPDATE books SET Rate=? WHERE Price <? '\n",
    "rowss=connection.execute(sql,[3,20])\n",
    "connection.commit()\n",
    "print(rowss)\n",
    "connection.close()\n"
   ]
  },
  {
   "cell_type": "code",
   "execution_count": 21,
   "metadata": {},
   "outputs": [
    {
     "name": "stdout",
     "output_type": "stream",
     "text": [
      "<built-in method fetchall of sqlite3.Cursor object at 0x0000023C2B756340>\n"
     ]
    }
   ],
   "source": [
    "#  sql query to delete all books that have price > 50£ and has rate <= 2.\n",
    "connection=sqlite3.connect(\"DB.db\")\n",
    "sql='DELETE from books WHERE Rate<=? and Price >? '\n",
    "rowss=connection.execute(sql,[2,50])\n",
    "connection.commit()\n",
    "print(rowss)\n",
    "connection.close()\n"
   ]
  },
  {
   "cell_type": "code",
   "execution_count": 20,
   "metadata": {},
   "outputs": [
    {
     "name": "stdout",
     "output_type": "stream",
     "text": [
      "5\n"
     ]
    }
   ],
   "source": [
    "# sql query to count the number of books that have 'Secret' in thier names and price between 10£ and 25£\n",
    "connection=sqlite3.connect(\"DB.db\")\n",
    "sql='SELECT COUNT(Book_id) FROM books  WHERE Title LIKE ? and Price BETWEEN ? and ?  '\n",
    "rowss=connection.execute(sql,[\"%Secret%\",10,25])\n",
    "connection.commit()\n",
    "print(rowss.fetchall()[0][0])\n",
    "connection.close()\n"
   ]
  },
  {
   "cell_type": "code",
   "execution_count": 27,
   "metadata": {},
   "outputs": [
    {
     "name": "stdout",
     "output_type": "stream",
     "text": [
      "[(59.92, 20.02)]\n"
     ]
    }
   ],
   "source": [
    "# sql query to get the minimum & maximum price for all the books that have rate 5.\n",
    "connection=sqlite3.connect(\"DB.db\")\n",
    "sql='SELECT MAX(Price),MIN(Price) FROM books WHERE Rate =?'\n",
    "rowss=connection.execute(sql,[5])\n",
    "connection.commit()\n",
    "print(rowss.fetchall())\n",
    "connection.close()"
   ]
  },
  {
   "cell_type": "code",
   "execution_count": 31,
   "metadata": {},
   "outputs": [
    {
     "name": "stdout",
     "output_type": "stream",
     "text": [
      "[(41.05000000000002,)]\n"
     ]
    }
   ],
   "source": [
    "#Write a sql query to calculate the avg price for all the books that have rate 5.\n",
    "connection=sqlite3.connect(\"DB.db\")\n",
    "sql='SELECT AVG(Price)FROM books WHERE Rate =?'\n",
    "rowss=connection.execute(sql,[5])\n",
    "connection.commit()\n",
    "print(rowss.fetchall())\n",
    "connection.close()\n"
   ]
  },
  {
   "cell_type": "code",
   "execution_count": 32,
   "metadata": {},
   "outputs": [
    {
     "name": "stdout",
     "output_type": "stream",
     "text": [
      "[(2772.749999999999,)]\n"
     ]
    }
   ],
   "source": [
    "# query to calculate the avg price for all the books that have rate 5.\n",
    "connection=sqlite3.connect(\"DB.db\")\n",
    "sql='SELECT SUM(Price) FROM books WHERE Rate =? AND Price BETWEEN ? and ?'\n",
    "rowss=connection.execute(sql,[2,10,40])\n",
    "connection.commit()\n",
    "print(rowss.fetchall())\n",
    "connection.close()"
   ]
  },
  {
   "cell_type": "code",
   "execution_count": 38,
   "metadata": {},
   "outputs": [
    {
     "name": "stdout",
     "output_type": "stream",
     "text": [
      "(1, \"It's Only the Himalayas\", 45.17, 2, 1, 1, 'Travel')\n"
     ]
    }
   ],
   "source": [
    "#sql query to join both books & categories table into one new table containing book_name & category_name & book_rate and book_price.\n",
    "connection=sqlite3.connect(\"DB.db\")\n",
    "sql='SELECT * FROM books INNER JOIN category ON books.Cat_id = category.Cat_id '\n",
    "rowss=connection.execute(sql,[])\n",
    "connection.commit()\n",
    "print(rowss.fetchall()[0])\n",
    "connection.close()"
   ]
  },
  {
   "cell_type": "code",
   "execution_count": 41,
   "metadata": {},
   "outputs": [
    {
     "name": "stdout",
     "output_type": "stream",
     "text": [
      "[(56,), (40,), (237,), (34,), (36,)]\n"
     ]
    }
   ],
   "source": [
    "#sql query to calculate how many books each rate has and have price between 20£ and 30£.\n",
    "connection=sqlite3.connect(\"DB.db\")\n",
    "sql='SELECT COUNT(*) FROM books WHERE Price BETWEEN 10 and 30 GROUP BY Rate'\n",
    "rowss=connection.execute(sql)\n",
    "connection.commit()\n",
    "print(rowss.fetchall())\n",
    "connection.close()\n"
   ]
  },
  {
   "cell_type": "code",
   "execution_count": 44,
   "metadata": {},
   "outputs": [
    {
     "name": "stdout",
     "output_type": "stream",
     "text": [
      "[(11,), (30,), (24,), (70,), (17,), (33,), (16,), (60,), (28,), (104,), (11,), (144,), (14,), (60,), (40,), (50,), (13,), (18,), (15,), (16,), (28,), (11,), (11,)]\n"
     ]
    }
   ],
   "source": [
    "#sql query to calculate how many books each category has having count > 10.\n",
    "connection=sqlite3.connect(\"DB.db\")\n",
    "sql='SELECT COUNT(*) FROM books GROUP BY Cat_id  HAVING COUNT(*) > 10'\n",
    "rowss=connection.execute(sql)\n",
    "connection.commit()\n",
    "print(rowss.fetchall())\n",
    "connection.close()\n",
    "\n"
   ]
  },
  {
   "cell_type": "code",
   "execution_count": 46,
   "metadata": {},
   "outputs": [
    {
     "name": "stdout",
     "output_type": "stream",
     "text": [
      "11\n"
     ]
    }
   ],
   "source": [
    "#sql query to get all books with category_name='Music' using subquery.\n",
    "connection=sqlite3.connect(\"DB.db\")\n",
    "sql='SELECT * FROM books WHERE Cat_id=(SELECT Cat_id FROM category WHERE Name=\"Music\") '\n",
    "rowss=connection.execute(sql)\n",
    "connection.commit()\n",
    "print(len(rowss.fetchall()))\n",
    "connection.close()\n"
   ]
  },
  {
   "cell_type": "code",
   "execution_count": 9,
   "metadata": {},
   "outputs": [],
   "source": [
    "conn = sqlite3.connect('DB.db')\n",
    "df=pd.read_sql('SELECT * FROM books',con=conn)\n",
    "df.to_excel('Fmohamed.xlsx', index = False)"
   ]
  },
  {
   "cell_type": "code",
   "execution_count": 10,
   "metadata": {},
   "outputs": [],
   "source": [
    "#Defining the path which excel needs to be created\n",
    "# There must be a pre-existing excel sheet which can be updated\n",
    "FilePath = \"Fmohamed.xlsx\"\n",
    "\n",
    "# Generating workbook\n",
    "ExcelWorkbook = openpyxl .load_workbook(FilePath)\n",
    "\n",
    "# Generating the writer engine\n",
    "writer = pd.ExcelWriter(FilePath, engine = 'openpyxl')\n",
    "\n",
    "# Assigning the workbook to the writer engine\n",
    "writer.book = ExcelWorkbook\n",
    "df=pd.read_sql('SELECT * FROM category',con=conn)\n",
    "df.to_excel(writer, sheet_name = 'Data2')\n",
    "writer.save()\n",
    "writer.close()\n",
    "conn.close()\n"
   ]
  }
 ],
 "metadata": {
  "interpreter": {
   "hash": "2ad6182593e75cfb8fc530cf03a6c282dc64614338c8884db44e6d6068f479c8"
  },
  "kernelspec": {
   "display_name": "Python 3.8.8 64-bit ('base': conda)",
   "name": "python3"
  },
  "language_info": {
   "codemirror_mode": {
    "name": "ipython",
    "version": 3
   },
   "file_extension": ".py",
   "mimetype": "text/x-python",
   "name": "python",
   "nbconvert_exporter": "python",
   "pygments_lexer": "ipython3",
   "version": "3.8.8"
  },
  "orig_nbformat": 4
 },
 "nbformat": 4,
 "nbformat_minor": 2
}
